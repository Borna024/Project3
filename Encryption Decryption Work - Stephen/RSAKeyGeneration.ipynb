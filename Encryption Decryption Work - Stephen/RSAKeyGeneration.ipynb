{
 "cells": [
  {
   "cell_type": "code",
   "execution_count": null,
   "metadata": {},
   "outputs": [],
   "source": [
    "#This notebook contains functions necessary to implement Shamir's secret sharing\n",
    "#Note that this code and the code that will be implemented into the project uses a linear representation instead of a finite field. \n",
    "#For any enterprise development the code must be changed to include a finite field build around a significantly large prime such as 2^127 -1 "
   ]
  },
  {
   "cell_type": "code",
   "execution_count": 21,
   "metadata": {},
   "outputs": [],
   "source": [
    "#This cell contains necessary imports\n",
    "import numpy as np\n",
    "from scipy.interpolate import lagrange \n",
    "import pandas as pd\n",
    "from random import seed\n",
    "from random import randint\n",
    "from numpy.polynomial.polynomial import Polynomial\n",
    "import Crypto\n",
    "#bytes object initialization \n",
    "from Crypto.PublicKey import RSA\n",
    "#import bcrypt\n",
    "import rsa\n",
    "import random\n",
    "import math"
   ]
  },
  {
   "cell_type": "code",
   "execution_count": 64,
   "metadata": {},
   "outputs": [],
   "source": [
    "def main():\n",
    "    S_list = create_secret_value_table()\n",
    "    #generates a list of secret indicies\n",
    "    RSA_list = generate_RSA_keypairs()\n",
    "    #generates a dataframe of public private keypairs\n",
    "    S_df = pd.DataFrame({\"Secret ID\": S_list})\n",
    "    S_RSA_DF = pd.concat([S_df, RSA_list], axis = 1)\n",
    "    S_RSA_DF.to_csv('RSA_Keys.csv')\n",
    "    \n",
    "    \n",
    "    #concatonates the two frames creating a pair between secret ID and each set of keys\n",
    "        \n",
    "main()"
   ]
  },
  {
   "cell_type": "code",
   "execution_count": 3,
   "metadata": {},
   "outputs": [],
   "source": [
    "def block_processing(block):\n",
    "    agent_list = we_need_agents()\n",
    "    (S, fC1, fC2) = generate_function_coefficients()\n",
    "    share_list = generate_Shamir_Shares(agent_list, S, fC1, fC2)\n",
    "    index = Block_DF.loc[Block_DF['Block_Number'] == block].index[0]\n",
    "    block_hash = Block_DF.loc[BLock_DF['Block_Number'] == block]['Raw_Bytes'][index]\n",
    "    encrypted_block = encrypt_the_block(block, S)\n",
    "    return share_list, encrypted_block"
   ]
  },
  {
   "cell_type": "code",
   "execution_count": 43,
   "metadata": {},
   "outputs": [
    {
     "data": {
      "text/plain": [
       "[b'\\x12 \\x8d\\xd0\\x81f\\xf9SR\\xca\\xe7\\xaeIz\\xcct?\\xe4\\xc9r\\xf1\\xd5\\xf6\\xe0\\xf9\\xeb\\xfb\\xfe\\x9e\\xca=\\x95\\xe3\\x8c\\xc8\\x0f\\x80\\xc1\\xa6\"\\xde!\\xdfw\\xa1\\xd9\\xb6\\x08\\xb0\\x15G\\x14\\x00,\\x1cN\\xc6\\xfeT&M\\xea\\xe1\\xf5\\x8eZ\\x1e$\\xcb\\x03[\\x84\\x9c\\xd3\\xc1\\xc6\\xd3\\xf7\\x17\\xb4\\x87\\x06\\xc6\\xef\\xd1LoO\\x9d\\x9a+&\\xc6\\xecG\\x8a\\xae0L\\xa9\\xd5\\xd0iP\\xe7\\x90\\x80\\xa9#\\xfd\\x981\\xe8\\xd2\\xa2\\x8d\\xf1\\xd7E\"3\\x81u\\xf6t\\x90\\xcb-h\\x89\\xc9\\x90\\xae\\xe3\\xf3\\xe0\\x88+\\xbc\\x8d\\xda\\x01\\xf48j\\xe2\\x03\\x9bY\\xea\\x13j\\xe4\\\\|A\\xf3R\\xdb\\xfe\\xf8\\x01f\\xc5\\xb8b\\xd2\\x9b\\x98\\xad`\\x84\\xf2|(z=&wBrI\\xb6\\x84\\xc3\\xa1t\\xf5(:\\xb8X9\\xfeMB\\x08\\x9a\\x83Z\\xc8\\xe1\\xear\\x05E\\xcb\\xe8\\xbdX,\\xb0\\xf3\\xbd2\\xf8n`\\xd7\\xb4\\xf3\\x92.z\\x1dU9o\\x05\\xf5i`iE3y\\x9e\\xf2l\\x8a\\xe1\\xb93-\\xc4\\xba\\xfb\\xb6 \\x83\\xa0mB\\xc9\\x1f\\x8bL\\x8ay\\x8br\\xea\\xd4\\xb6\\xe1\\xffw\\xc6!\\xb9\\x8f\\x0f\\xa2\\x84\\xd9\\'\\xafuY3\"\\xea.\\xbc\\xc5xA\\xdf\\xeb-\\xd6\\x95\\xab\\xd0\\x0f\\xf8/tc\\x18$=T\\xef\\xb9\\xad\\tI\\tx%\\xba\\x0f\\xd3\\x08\\xd9[\\x88\\xcd\\x97\\xbf\\x9e\\x93\\xe3A9\\xd1q)G\\x8d\\x12\\x9f:\\x94\\xf2qb\\\\y\\n|\\xd4]r;\\x08\\xd5wH\\x07\\x98T\\xb2t\\xf4\\xb2\\x0c\\x9d\\n1\\xde\\xe9\\x91D1aU\\xb9|\\x14\\xed\\xb4\\xc2\\x9a\\xbf\\xe1\\x90A\\xd9\\xb6\\xca(\\xd4\\xb4\\x9ad\\xb4\\x1aq\\x0eH\\xf2\\xc3C\\xe8\\xa3\\xe4\\x10\\x96\\xa1\\xcf\\x89]#\\xcd\\xe2\\x7f\\x13C\\xfb\\x06\\xd0~U\\x88\\xb9:\\xa4\\xfa\\xd33\\xec\\x97\\n{\\x96\\xecL\\xeab\\x97\\xbcx\\x88\\x8fG\\xa4\\x89>\"V\\xa9\\x0bY!o\\xd6\\xf9-\\x9c\\xba\\xaa0\\r(U\\x15\\x95x\\xbbD\\xf5\\xf2|\\xde\\x1d\\x07\\xa2\\x8b\\xbc\\x98\\xd2f\\xd2\\xb5/\\xb5\\x1aT\\'O5\\x0f$h\\x88\\xa8F\\x15\\xe0r\\xbc\\xb3\\x05\\xc5\\xe0v\\xa3\\xb1`*\\xdb\\xe9\\xc5\\x91\\x85\\x1e\\xca)~w',\n",
       " b\"\\x05\\xb6\\xb5\\xd8S,\\\\p\\x02O\\x83\\x94\\xe4\\xfaz\\xf9\\x81\\xa0\\xa8v\\xa4\\xec\\xff\\xb9I\\x90y\\x07\\xc5;\\xeeR<\\xe1W7\\x19Jh\\xf3\\xad9`\\xfc\\x930\\xaa\\x99\\x1fA\\xc3\\xe7\\x16\\x9a\\xc4\\xdc\\x1d\\xe4B\\x92\\xa2gL\\xd11q\\xb9\\x8e\\xc19Z3`\\xfe\\xac8\\xe1\\n\\x98\\xd5$\\xf9`\\x86\\r\\xe5\\xf7\\xf8\\xbb\\xf5\\xaa\\xc2\\x1fX\\x9d\\x02\\x89e\\x8b\\xd0^a\\x1f\\xa5N\\x02\\xc4\\xa0\\xc4\\x98\\xfc\\xbd\\r\\xbb\\xb7$\\x19P&\\x08\\xa7\\xa7J\\xec\\xffA\\xfb\\xc2|4Rp\\xf5\\x14\\xaf\\xe4\\x99\\xcf\\xeb\\xd45}n\\xdfO*\\xfa\\xad\\xb0\\x0cL\\x17q\\x1a\\xd5\\x07\\xd5\\xf5j\\x1b\\xc7\\xfbP\\x01\\x9b\\xc0\\xb1\\xc4\\x12]\\x11\\xac\\xd2X\\xdd\\xc6<\\xe8\\xd14$\\x19\\x88\\xee\\x89\\xcey\\x0c*\\\\[\\x8f\\xd6\\xc8R \\xca\\xac>\\xb8\\xf6\\x9c%\\xa8\\x81r9-\\xd7]\\xeaY\\xaf\\xd8_2P~Cp\\x9a\\xa43\\x86\\xee\\x11v\\xf5)'\\x9eb\\x83=\\xa8\\xf8\\x99\\x10(\\xbf<l=\\xc68\\x10\\xe8\\xc1;4t\\xeb\\xc2\\x00\\xa1BN\\xa0\\xdd\\xd9\\xd6\\xc6\\x13\\xe7\\xc0\\xc9u\\x13_X\\xe9\\xb64\\xd4c>\\xc7<lD\\xea\\xee\\xd1\\xfd/\\xd7\\x84\\x96\\xec\\xa2\\xe2\\xa2\\x8a\\x0c>\\xd4\\xf95\\x7fE\\x9cfb\\x87\\xdf\\xbc\\x1f\\x0c3\\x95\\xb0k\\x03\\xfd\\x9a(l\\x86\\xb7\\xd9\\xe7\\x92\\x00\\x01I\\xbe\\xeaspF\\xf3\\xfd,\\x13n\\x9ft\\xa2\\x18\\xc5,\\xe2\\x03e\\xb1g\\x95\\xf2\\x93&\\x1c\\xf7\\xef\\x858%\\xd6\\xddN;(\\x8f\\x8f\\xe1\\xb8!mT\\xa9\\x86\\xe8\\xadf\\x86\\x11d\\x84\\x1cu\\x99.\\x17ba\\xfd1\\x94\\xe1G\\xf8\\x90\\xb30a\\xd3\\xbe\\xbcP\\xd0\\x8d\\xbd\\xa1\\x067\\x18\\x85\\xf3\\xdf6o\\xd9rt4\\xeb\\x9d3\\xa3bG\\x8f\\xd6\\x15T\\xd5\\x86\\x02\\xe6\\x93/\\x94\\xc0F\\x95\\xbe\\x83n\\x18|\\x89\\xb6;i\\xcay\\x8c\\x9a\\xb3\\xde\\x12\\xea\\xce\\xbc\\xb2T\\x9a\\xa3^c6L\\xa9\\xe1\\nnm\\xed\\r+\\x12\\x90T\\xbe\\x84\\xd9Gp\\x0f8R\\xeb\\xd6\\xf2\\x1d\\xf0\\xb9\\x1a\\xe3\\x80\\xca\\xa6\\x14Gc6\\x12l\\xfc\\xd5\\xf4+k\\xf1\\x85*N\\x17\\xe4\\x10\\xe1=D\",\n",
       " b',7<C\\x18Z\\xc8U\\xcdh\\xc2e\\x11\\x8b\\x19\\x0fN\\x8b\\x84\\xe2\\x8c/8\\'%\\xb8\\xf0\\xd7$\\x97\\xc6)F\\xe9\\xb5\\xa0\\xb6\\x83\\n\\x9bw\\xcf8\\xcf\\x00\\xedNP\\xb8s\\xf7\\xda^L\\x05\\xc9\\xf3\\x95?\\xdb\\xfc\\xa7\\xed\\x049]\\x0f|\\x1f\\x13\\xfd\\x92O\\x1a\\xd6\\x0cU\\x84I\\xeeUK\\xf2\\xe4h:bZ{\\xe0&M\\xc3\\xfa\\xd4<\\x00\\xcc\\x9b\\xaf6\\'~o\\xfc\\xbf\\xaf%D4~u@\\xf0G\\xb9\\x9a\\xf7\\x11\\xca\\xacL6\\xe5\\xab\\x92\\x1b\\xdf\\xda\\x86\\xfc\\xc9\\xb4|\\xbcbL\\xb5E\\xee\\xa0\\xbey\\x03}o,F\\xff\\x93\\x84\\xb7\\xcb\\x0bj[b\\xed.\\xf4V\\x9cB\\x19\\x9f\\xb2S6\\xc7\\x9a\\xef0<\\x0e\\x99S\\xfb\\xa9\\x12\\xef\\xfe\\xfd\\xb3-j\\xc7<s\\xb1\\xe7{\\xfc\\xf8_\\x1b\\xe8#C\\xe9\\x8b\\x9bN\\xed]?25\\x1e\\x10\\x96\\x82R\\xc0\\xf7\\xc1\\x0f\\xa0\\xa6\\xa7!\\x15\"Q0\\xbe\\x0fp\\xd6<[\\xb9\\xd5\\xb8\\xfd\\xd3\\xc0+\\xf9\\xf0\\xdb\\x83\\xcd7\\xd9\\xb2\\x13\\xc8M\\xb8\\x05\\xdc\\x8e\\xb8\\xa8\\xc0\\x1e\\xd8\\x14gz\\xf9QE\\xc3\\xf3y\\x0c\\xb8\\xa9\\xecS\\xc9]\\x7f\\xbb\\xfbr\\xdd\\x1bwV\\xd2\\x03\\xb4\\x12\\xcds!t\\xa5\\xb4\\xc7C*\\xc9\\x95\\x8ew!\\xb6\\xf6\\xaa\\x8f\\x02\\x88\\x03\\xcd\\\\\\xa7\\xdc\\xfc.\\x8e\\x0ep\\x88a&k#\\xe33!\\xca\\xd3\\xd9\\xc6\\xea;\\xc0\\x1e\\xc1\\xb5\\xe5\\x16rg\\xdb\\x82I=\\x86\\\\\\xb1\\x91\\x9bf\\xccbqq\\xb44\\x1f\\xfe:];%\\x8e\\xbe\\xe5.\\xf7\\xcf\\x1aqH\\xf8B\\x87(\\xc7\\xf3\\xff\\xe5\\xfa#\\xaf\\\\\\xe2O\\x96\\x1cJN\\x8d\\t\\xb7\\xdc\\xa1\\xaf\\xf2x7?\\x18-\\xa6\\xd1&\\x14\\xd3\\xdf\\xd0\\xd1[\\xfcZ\\x104\\x1bY\\x82\\xc8\\x97X+\\x06-|ZG\\xa1\\xbdI]t\\xa52\\x14\\xfag\\xb3\\xe5k\\xd8,6\\x93>\\xbc\\xdb?\\x86(D\\x10Q\\x0ewI`\\x15\\r\\x7f:\\xc9\\x0c\\x17}c\\xd1g\\xe3d\\x1f}~>.\\x9b\\t\\xc1\\x1d\\x8a\\xad\\xfb\\n\\xe7j>\\x03\\x1f@\\xf7\\xc6\\x9c\\x1fu\\xc7d\\xebR>\\x13\\r\\xe4\\xa9\\xa9\\xf2\\xeb\\xeb\\xcd]\\x18\\xbe)\\x84\\x8d\\xc4\\xfc',\n",
       " b'f\\x8d\\x83\\xfa\\xab:\\x91\\x8c\\x89y\\xb5^3Y\\x15\\x92;\\xd4\\xbf\\x9d\\x07dz(\\xe40Z\\xa5P\\x12\\xab\\xcc\\x1c`\\xb1\\xcc`\\x935\\x19)G`\\t7\\x03\\xa1\\xcb\\xe4\\x98\\xb0C\\x8b:\\xf7\\xa2\\xc7o#<\\xdb\\x84\\xd9n]\\xc9\\xf74;9\\xd7\\xa2\\xe1\\x86\\xfe\\xb2=\\xe8Oq\\x9e,l\\xaf5\\xb1\\xff\\x90\\xce\\x7f\\xe1\\xe9\\x01\\xd6+\\xecM\\xff\\xcf\\x06\\x1c\\xff\\xeeK2\\xbd\\xc1\\xe4\\xc7E@\\xc1UR\\x0e\\xe9T\\x905\\xff\\xd8\\x88l\\xa4\\x15\\x9f;\\x0f=\\x9c\\x85\\xaa\\x04\\x11^\\x8e\\xb9\\x04[\\x90\\xd1\\x1b\\x9b\\x0f\\xc6\\xe0f\\x96r\\xe5<f>\\x1ew\\xfb\\x9fQ\\x1f\\xb7\\xe1\\x1a\\x94\\x9b\\xa6\\x8f1\\x12\\x07~;x\\xcbU\\x08\\x06\\x8e\\x8b\\x9dt<\\x94\\xac\\x10^\\xbf\\xd4\\xd5\\xba]\\x03\\xd5\\xc9`\\xf4\\x14\\xad\\xdb\\x8e\\xd4\\'\\xa1*\\xad\\xd1\\x18\\xc9\\xf8e\\x04\\xeb)\\xab/>41\\xfe\\x11\\xfaly\\xb2\\x94\\xb4\\x08\\xca\\x0b\\xad\\xe9\\xcdfu\\xf6\\x9a\\xa3a\\xf3 \\xc5\\x0f\\xbc^xT\\x88\\xf6\\x04[\\xbc\\xc7)\\xc9\\x12\\xf8S\\xd4\\nh&\\x9bl\\xe4\\x93\\xd0\\xec\\xcbph\\xd1\\xca\\xf5e/s\\xcc\\x18w\\x816\\xa4\\xa1\\x7fE\\x8c\\xdf/\\x7f\\x18\\x1d\\xf1\\x19\\xd2\\x85\\x0b\\x89xc\\xbc\\xac\\xaf+\\x87\\xbc\\x1c\\x8b58\\x92i\\x9e\\x99\\x1c\\x1d\\xa6\\xf6\\x92\\x10\\xa4.\\xe0\\x97\\xc1\\x03*dxi\\x11\\xd0\\xa7w\\xf5\"\\x0b\\xd60\\x1dXL\\t\\xc5\\x17\\x0fj\\x04dp<\\x0f1\\x96\\xba\\xc9\\x8e\\xf8f\\rd}\\x9f\\xe8-\\xae\\x1c\\x05\\x80\\xe8T\\x98\\xbc\\xab\\xc2>f\\x0e\\xf9\\x0b\\xb0tL\\xba\\xc1\\x15\\xc8\\xb8\\xbe\\xce|\\xeea4\\x9d\\xbe,\\xb1Y_\\xe5\\xd8\\x94\\x03j\\x83\\x93\\x1e\\xb3B\\x99Ed.Y\\xe7\\x08^ \\x10\\xcc\\xa3n>Y\\xfe\\x83\\xdb\\x9b\\x7f\\xea&\\x89\\xdb\\x82M\\xa0{W\\xa9}\\x1c\\xc2 \\xd5\\xfd\\n\\x08\\x0e\\x06\\xb0\\xba1\\x05\\xae\\x9e\\x1f\\xce\\xb2R*(\\x1e!\\x81h\\xf1\\xae#\\x03KO\\xbfB\\xb9\\xc8\\xce\\x07\\x93\\x8bT7\\xb9\\xc0\\x1dl\\x0bcrV\\x07\\xcb\\xc8;\\xda\\xd5\\x90`\\x92!\\x15\\xe4\\x89S\\xe2\\xd0\\xc5\\xd6G \\xbc\\x99o\\xd7',\n",
       " b'\\x85o.2\\x01`8\\x1c\\xe7\\x18\\xf0\\xc5\\xebT\\xc2\\x06\\xe52\\xb0!\"\\x1b\\x12\\x9b\\xb4U~,\\x8fIC\\xa1\\xe5;\\xdb\\xcc\\x9c;%/=\\x8cL\\xe4\\xa6\\xf0\\xdc\\xe6\\xa0\\xecff\\x99\\x92\\xc5\\x96\\x10\\x8c\\x8a(\\xcd\\xd5K\\xf8\\xb0l\\x84$\\xb7\\xc1\\xc2\\xc5\\xe8\\xbc\\xe1.i9\\x82\\xd8\\xb3\\xda<^\\x17\\x0fK\\xaa\\\\\\xbd\\xab\\n!\\xf7P\\na-l:\\x98\\x1f9\\xb4#\\x90\\xb2B\\x97\\\\\\xfa\\x83a{|\\xef\\x91\\xe3[Q\\x85\\xe3r\\x13\\xab\\x92\\x18\\xb3\\x92\\r\\xb5\\xbb#\\xf4`\\xfb\\xael\\x02\\xc6\\xf3\\xcd\\n\\x84q+\\xde\\x91\\xba\\xa2\\x06\\xc0ce\\xbaG4JbT\\x03\\xf3Kw\\xaa\\xf1\\x99s\\x1b\\xdeG>W++\\xe2\\x12:\\xd34\\xa8\\xfb\\t\\xb8KM\\xb7K\\xe2\\xef\\x01\\xf0:?l\\x81\\xdd\\x8d\\x14\\xac\\x9aM2\\x88\\xd2A\\'\\x1a\\xb7\\x1a:Zs2\\xc1\\xad\\x8c`\\x1e\\xd7\\xbc\\xad\\xccCy\\xc5\\x0f\"\\x8dCf5m\\x7f\\x0e\\xd52\\x9e;B8E\\xed\\xe1\\x14\\xb4\\xc6\\xb4\\x02\\x06\\\\\\xddQ\\xa8;\\x88}\\x1aR_\\xc2\\xba\\xc8\\xc6\\x1d\\xa3G\\x17\\xb9\\xc9\\x07>\\x0f\\xf2\\x17|Z\\x80Go\\xbeh\\x89\\xa3,4\\xd6-\\x06kO\\'\\xe2\\x94.\\xb1\\x80\\xa89mV\\x10\\x95W\\x1fU\\x9f#\\xaa\\xf5$\\xc8\\x80F\\x06\"\\x01\\xbe\\x8b:\\x8bT\\x86`\\xbc\\xc8d\\x18\\xd5\\xc5\\x106\\x96#C\\xbc\\xaaC\\x040\\x14u2\\xe44Z\\x82L\\xe6\\xbbI\\x03\\xa3%A\\x8fS\\xd9\"\\x17\\xa3\\x1a\\xc7\\x08\\xc5\\x89\\x80\\xcf\\xa5y\\x1393\\x1e\\xef\\xb1\\xde@\\x9f\\xc7]9\\xc5+\\xd6l%P1\\'\\x90\\xba\\x7f\\t1B\\x97w@\\x0e\\x0e>0\\xe5#8.%\\xd0\\x0eE\\xe8\\xc9\\xaa\\xf3\\xda\\xc4\\x05\\xbb\\x977|\\x85d\\xcfh8\\x0e\\xf0\\xff,9\\xd6L\\xb1\\xe6\\xc3i\\xcc\\x07\\x81x\\xdc\\x857\\x02t\\xa3\\xe2mK\\x0c9\\xe1\\xd3E\\xe24 \\xf5\\xb5\\x1fv\\xdd\\x05W\\xb1G\\x1b*Ow\\xc5\\xec5v\\x9fEc\\xa5G\\xdb{A\\x91\\x9c\\xd1\\xfe\\xc2\\xc0\\xf3h<\\xa3^\\xf3;\\xfb\\x87\\x0e\\x1b\\x87F\\xdc\\x1c\\x0b\\xcc\\xf3\\xe2\\x0f\\xff\\xdd',\n",
       " b'%\\xabp\\xaaG\\xdb\\x8b\\x8c\\xc6\\xc4\\x91\\xb8\\x94\\x9d\\xa3\\xb1\\x03M\\xc7\\xae_\\xf1\\x0b\\xef*\\x84\\xee\\x96hi\\xd3D\\x08/\\x1c\\xad6s\\xd5\\xde\\xf6ymlN\\x8dS\\x83\\x87f\\xec\\xad&\\x94Tp\\xdd2\\xb3a\\xb4\\x92\\x99$:\\xb1\\xf2\\x86\\xd7\\x13S\\xdd*\\xce\\xab-\\xc5\\x7f5x\\xd9\\x9a\\xbeyd\\xbb\\x92OB\\x04S\\'\\x81\\\\\\x80\\x01\\xa9\\xe9\\x02\\x85\\x98\\xf3\\xd3\\x0f\\x7f\\xb8\\x8b\\x90\\x81\\'\\x9b=C\\xa6\\xfa\\xf4/\\xd7\\xfb?\\x19\\x9e\\x08\\xc9\\x18N\\x17+#\\x0f\\xa7T\\xf4\\xefM\\xe4}v~\\x1aq?)r\\xe3\\xae/\\x065\\n*\\x07k\\xd4K\\x86g\\x1f\\xf8J\\xcf\\xdb\\x0e\\x07\\xa5\\xc8\\xf9\\x97\\xb6%f\\x13\\x8d\\x8c\\x1b\\xb2fp\\x9b\\x13}\\xc5\\xb9\\xc0\\x9d\\xfb\\xa7/\\xe3\\x97\\xfb<\\x0f\\xba\\xbc\\n\\xabY+B\\xed\\x08\\xe3\\xe7\\x127{\\x1aA\\x91\\xff\\x8bk\\xa9\\xd9\\xc7Mq6\\xe7\\x13](\\xf3\\xf3\\xfa\\xc5]\\x93\\xb3}\\xba\\xf4\\xf5\\x00\\xf4\\xdfu\\x17\\xc6\\xad\\x86\"\\xb2\\xf2\\xf3\\xf3\\xa4\\xba\\xa6\\xb6\\xe9\\x9fT\\x08\\x16\\xaek-\\xf7\\xc6\\xd3\\xf6G\\\\F\\xd1L\\x03\\xc7\\xadn\\xe2D\\xc0\\x1fV5\\xc2\\xcdY\\x11\\xa1?\\x87\\x99\\xa9\\x18\\xd2\\x9d\\x10\\x9f\\x83J\\x9a\\x19ev[.=E!\\xc9\\\\\\x95 \\xd9\\xe8D\\xb4\\x8d\\x1b\\'\\xdd8\\x0cw\\xbb7\\xf0[\\xc5\\x8a|\\x0bb\\x88\\x91\\xabW~\\xf6-\\xdd`\\x1a\\x02\\xd4m\\x18nz\\x89\\xb0M\\xac\\xcen\\xe7D\\xb6\\x7fn\\x8e\\t8{_\\xe0&\\xe7\\x1bP\\xaf\\x1bu7\\xf1\\xeak\\x02\\x0beD\\xa1\\x96\"\\x80{\\xea\\r\\x16\\xc6o/\\xe9Tc\\\\\\x91e\\x94\\xca\\xa1H:\\xe5*\\xdb\\x0b/\\xfe\\xad\\xc5(\\x86\\xb9h\\xef+X\\x00Z\\x02c\\xaa\\xba\\x0c#\\xcc\\x16F|\\xb2\\xc3A#\\xa6\\xfd\\x1e\\x0e\\xb5~.\\x8e\\xa9\\x88\\xd9\\xe2\\xe1\\x08<?\\xdcU\\xc4K\\xc8/\\xbaE\\xa3eW\\xba-\\x17=\\xab\\x7f\\x04Mr\\x1a ;\\xf1\\'\\x85\\xb8\\xcbo\\x853\\xb2\\x1b\\x98g\\xa8)Y\\x16\\xba()\\xe0!t\\x94\\x85\\x81f\\xe1h\\xff2\\xed\\xeb\\xe2r>\\x0e=\\x98\\x13\\x04U\\xf6^k\\xef',\n",
       " b'9\\\\\\x0b\\xe2\\x1fq\\xbd\\xab\\x8e\\t.\\x93\\x927\\xd6\\xdbq\\x81r\\xb7\\x9dC\\xc6i\\x16\\xe0\\xaeF\\x9d\\xa8\\t~6\\xd0\\xb9\\xc9v\\x89\\xd9\\xa2Z\\x9b\\x84\\x92\\xb9\\xf7\\xb2`\\xe7\\xef\\x13\\xe5\\x15\\x10\\xa7\\x83\\xcc\\xb0k\\xc4K\\x9bA\\x12\\xcc:u\\x95F\\x92C\\xcc/\\xbc\\xf9\\xcb\\x0c\\x13^\\xe2\\x9a\\xb4\\xbca2D\\x7f\\x0e\\xe3SHL\\xb7\\xd2\\x14\\xe4\\xb4]r\\x85\\xe1x\\x83F\\xf7\\xd7\\x02@\\xfc\\x13\\xb6\\x8a\\xcf\\x97*\\xe4j\"\\xb16\\xecmT\\xf0\\x9c\\tO(N\\xd6Z\\xf4\\x8d\\x00,V\\x17:\\x88|\\xa9\\xc6\\x7f\\x13\\x8en\\xc5*\\x84X\\x02\\xf2qH\\x86\\xf5X)\\xcaD)\\x8eh\\xb2\\xe4D\\x98\\x95ac\\x08\\xd8R\\r\\xd6^\\xd9\\xf7\\x8a=;\\xb6\\xd6x\\'\\xb7\\xa9\\xa7\\x15\\x85\\xef\\xcc\\xbd\\xce8D\\xcd\\xf2\\xc8\\x99\\xf1\\xbb\\x86\\x0bjB\\x81Q,I\\xa7\\xf9\\xa4[\\x9f\\xb5\\xaf\\x85Tw\\xc3m\\xac\\xed\\xbf\\x0b\\x8bg\\xab\\xf3\\xcf2_\\xf9}\\xc9\\x96xi{\\x1c\\x84)\\x03\\x10\\xa0\\xa1\\x1b\\xa0\\xbfF\\x9c\\x17\\xd9\\xfd\\xa3\\x18}\\x02\\x02\\xa0W\\xba\\xf4\\xa60L\\xbde\\xe9B$\\x02~\\xb0\\x92\\xf8\\xd360%\\x83:\\x06\\xed&\\x0b\\xe7\\x86\\xb9\\x07y\\xb6g\\xf6M\\xb4t\\xfc(\\xa1\\xeeM\\x89\\xf8\\x7f\\xe7\\xec\\xfd\\xfbO\\x853\\x9b\\x08S\\x03\\xd6U\\x84\\xab\\xae{\\xbe\\xe9f\\x1d\\xa2Th<\\xba\\x8c\\xe7\\xdfY\\xd6,ID=\\xd9\\xa4\\x81^`E\\xca\\x15\\x85\\x10hC+\\xb5\\xe24W\\xd0\\xf2j~~r\\t\\x98\\xce\\xa4\\x0c\\x1a\\x82\\x8f\\x1b\\xcc\\x98>\\xb1|\\xf6\\xa7\\xe2\\x07\\xacW\\xe8\\x1f\\xa7\\xba/\\\\D*\\x07\\x0b\\xe7Z\\xb1\\x83\\xd7Gv/?=\\xd2_\\xbd$\\xe1\\x93\\xfab/\\x0b\\xa7\\xbb\\x86\\xcc\\x92\\xb3\\xbb\\xb5qYd,,\\xd7H\\xc3\\xabv\\xdf(\\x99p\\x99@\\xe6\\x7fR\\'=gz\\x89\\xd6\\xcb\\xe3>h2/^\\xb4$\\x81#\\x8f\\xb2\\xf8\\xa6Eg)p\\x9f\\xc6\\x1b(tp\\xda\\xbc\\xf5\\x169\\x88&\\x90\\xd7C\\x0c\\xe2\\xa9\\xba\\xee\\xea\\x95\\x07+1\\x0e\\xd3Ci\\xe0\\xbcmX\\xbek(\\xf4\\x9eK\\x02,\\x87\\x95z\\xef',\n",
       " b'N!7\\xcd\\x91\\x1f\\xdee-\\xf94\\nS\\x04\\xe9\\xf0?8m\\x05f[\\xb2n\\xe1{\\x0b2\\x90\\x8f\\x84\\xb4\\xafaPj\\x0c\\xbe\\x9c\\xca,\\x91v\\xd18~0n\\xca2\\xd1\\xb1D0\\x16iFv\\x1c\\x18\\x0e\\n\\x84\\x1c.\\x14\\xae\\xf6\\xcf\\x93E\\xa6\\xfc~T|\\xb1\\xb5.\\xe9Js\\xd2\\x1c\\xd8OK\\xf3\\xb7q\\x084@\\x98\\x81~$\\x07\\xb8\\xcb\\x18\\xd4A\\xfc\\x91JS.R\\x81\\xa7\\x10\\xc0\\x86\\x96\\x8c+wyM#\\xd1\\x11\\xa3\\xee\\x80\\xb1\\x8b\\x14Z1\\x07A\\xf6\\xdb\\x04+\\x19\\'B\\x8c\\xc4\\'\\x11\\x97K\\x90\\xb5\\xc9,\\xf3>o/\\x9bl6\\xbb\\x81&\\xcd\\x0e\\xb0d\\xfd\\xbb\\xa4^o\\xa4~\\xe8Uz\\xc3\\xd0,W\\xc1\\x92i=\\xcbZUd\\x1c|\\xa9\\x13\\xfb\\x95LM}b\\x86\\x17B\\xb90\\xees\\xed4gv\\xe5nV\\x93\\xea\\xcc\\xa5L\\xc0\\xfb\\x0f~\\xb3\\x91$u%\\xdf\\xe9,\\x19{\\x93bUD\\tK@O;j\\xfdr\\x92Q\\x0c\\\\\\x9a\\x86e\\xc6\\xacH\\x15\\x19\\r\\xfa]\\x01!\\xe2|n\\x0e\\x1d^\\xdc\\x7f\\xe3\\xafh\\x03\\x8f\\x95\\xb4\\xce\\x91\\xeb\\xadzp:4\\xfb(\\x8c4\\xe3s+\\x9fX\\xd0\\x93\\xe3\\xb5=b\\xa0\\x0f\\xba\\x97\\xdc}\\xbf\\xe9Lz\\xab\\xe2D&\\xc5\\x04\\x10\\xf6\\xaa\\xd5\\xb4\\x98\\xd1\\x92?e\\xf0\\x89\\x0e\\x84\\x91\\x9c\\xd5\\x18\\xf1\\x9f\\xe3\\x9e\\x8b\\xc9uN\\xfa\\xa1\\xf7]\\xc1\\x12\\xeb\\x9d\\x8fnjCC\\xf0@\\x86J\\xbc*\\xbf\\xc5\\xbc\\xbe9c\\xd9\\x98\\x0bcC3\\x89-\\x82\\xd0\\xb2T~\\xca\\x87\\x8a\\x8c\\xa5\\xddb\\xdfEP\\x1a\\xb8\\xb3\\n\\\\\\xd3j+\\x0b\\x9b\\x9c\\x03X\\xa2V\\xc3\\x92\\xf3x\\xe4\\x0f\\xb2U\\xbb2\\xe2\\xd1\\xe0\\xb7\\xc2\\x10\\xeey/\\xe6\\xa6\\xe3\\xdb\\xec\\xbd\\x85#\\xd7\\xc8\\x12\\xcbm\\x8cvW\\xa5\\x9aG@\\xe2\\r\\xca+%\\x80L\\xab\\x7f\\xfe\\xc1?\\xa0\\x8f\\xa4\\x99\\xa6\\xccjB\\x01M\\x02J L\\x7fS\\xd3\\xd0\\x00\\xe0\\xdd4[\\x18\\x8a\\x89\\x12X\\xa2\"\\x96=\\xb9\\xe6\\xc1\\xads\\xb4\\xb6\\xf69qZ.\\\\\\xee\\xf8\\xb6\\xde\\xbc\\n\\xdb\\x0eb0i\\xc43\\r\\xc9',\n",
       " b'U\\xacwq\\x0c\\xddc\\xc9\\xa3\\xbaT\\xe1\\xbfy)\\x9dS\\nB\\x99C(\\x917+\\x0f\\x1cS\\xb0\\xa5\\xc7t\\x0c2\\x06\\xceOQS\\xd8\\x14h\"\\xc2\\xe5\\xfd[\\x1b\\xc8\\xeb\\x1aU\\xa1\\xe6\\xba\\xf4D\\x1d\\xcf\\xa2\\x7fs\\xff\\x97\\xde\\xa00fx\\xc4P\\x04\\x13\\xc7\\xa8\\xde7\\xf4\\x94\\xc5\\xaf\\x93\\x96\\xe0\\xb6\\x97\\xb0T\\xa1x\\x01& ;j\\x01\\xd5\\xf1\\x0e_\\x91u\\xbe\\xbe\\xe4\\xf0\\xc1\"\\x80\\x88\\xac\\xdd%G\\xdf\\xc5\\t\\x15\\xca\\xb6F\\x12\\xfb\\xd1O\\xac\\x1c\\x94\\x82H\\xael\\xfcgB\\xa7`\\xf2`\\xe5\\x89\\xe7\\xa7\\xf1\\xf4\\xf5\\xfb{\\x87#\\x9c\\x1c\\xc5\\xfb\\xaa\\xf7\\r\\xbdC\\x8eS\\xa7\\x80\\x8e\\xed\\xc5>\\x12\\xcd\\xc7\\x14I\\x17\\x1a\\x82\"\\\\\\xdf\\x9d.\\xfd\\xfe\\xaaG\\xed\\xa7MJ\\xc9\\x7f\\xde\\x9a2\\xe8\\xa6\\xf1fL\\xc7\\xfeY\\xba[wF\\xa3\\xc0\\x8e\\xcf\\xeb\\xa9\\x8a\\xe8N\\xfe\\xd1\\xb4\\xac\\x99\\xb7\\xec\\x1e\\xe8X!+\\x9b\\xa6g\\xa2\\xbf3\\xeaF\\x02\\xe5n\\xc4\\x94\\xf6\\xabu\\xbd=\\xbch\\xef\\x1c\\xeb\\xd4_\\x12(\\x07&2\\xbd\\xe9\\xfa\\xe6\\x84y{\\x89\\xd2y2\\x0fS\\xb8 \\xe4\\x17Z\\xcb%r\\n\\xa9!E\\x9eQ)\\xa5\\x91&\\xe3S\\xd1]\\xa4c\\x01\\xa4A\\x13@\\xcau(\\xb5I\\xc5\\x1f:I\\xb7\\xc0}a\\xa7\\xce3\\x90S]j\\xba1\\x9a:_\\xca\\x0c\\x8a\\x83\\xcb\\x81\\x01\\xb2\\x0c\\xb4\\x99\\xdd \\rdm\\x90\\x92\\x1eTi\\xf1Uz\\xf6\\xe6^\\xf2q\\x8c\\xb1\\xab\\x84;q\\xc2\\x98\\xc4U\\x80\\xc6,a\\xb005\\xa0\\x12\\xb1\\x97f\\x9a\\xf7\\xb6\\xc8\\xd4\\xb3\\xe9\\xbb\\xd8/,\\xc2\\x93\\xed\\xd7l-RyH\\t\\xba\\x90\\x80d\\xd9\\x93g\\xc7m\\x10\\xdf\\xa5!\\x00\\x84\\x13y\\xec~\\xd6b\\xde\\x8b\\xa0\\x82\\xe6\\xf5@\\xc3\\x1c8\\xee\\xcc\\xc3\\x16oY\\x85D\\x88z\\x1b\\x0e\\xadwP\\x97\\xc7\\x0b\\xa7\\x7f\\x9f5\\xa5\\xaa_\\xcf\\xdd\\x11\\xd6\\xa0g3Qy\\xa7\\nJ\\\\8\\xbd>*j\\xa0\\xd5\\x85\\xfa\\xe7v8\\xb5{\\x10\\xc8\\xba\\xd4\\xbeP|\\x99w\\x97x\\x9f=Z\\xc3\\n\\x93\\x87\\xa9=\\xd0sM\\t\\xcb6lt\\xf5)\\x84\\x8f#,']"
      ]
     },
     "execution_count": 43,
     "metadata": {},
     "output_type": "execute_result"
    }
   ],
   "source": [
    "S = 792\n",
    "block = 104\n",
    "index = Block_DF.loc[Block_DF['Block_Number'] == block].index[0]\n",
    "block_hex = Block_DF.loc[Block_DF['Block_Number'] == block]['Raw_bytes'][index]\n",
    "unencrypted_hex_list = break_the_block(block_hex)\n",
    "encrypted_parts = []\n",
    "for i in unencrypted_hex_list:\n",
    "    encrypted_pt = encrypt_the_block(i, S)\n",
    "    encrypted_parts.append(encrypted_pt)\n",
    "encrypted_parts"
   ]
  },
  {
   "cell_type": "code",
   "execution_count": 31,
   "metadata": {},
   "outputs": [
    {
     "name": "stdout",
     "output_type": "stream",
     "text": [
      "[{2: 2764}, {1: 1485}, {8: 24046}, {3: 4691}, {7: 18879}]\n",
      "b'\\x18\\xbe\\x92]A\\xec\\x8d\\xfb\\x9a\\x15N{\\xcd\\xfdWG\\x14NX\\xe4LK\\xd7+z\\xbf\\xed\\x8b\\x0c1\\xcf\\xce\\xcb\\x00B7n10\\xc7\\xcfo\\xf0\\x99\\xc1\\x05\\x03\\xda\\x9e\\x0bu\\x8ad\\'\\xddr\\xe2\\x9d\\x1bH\\xfa\\x1a\\xdd=\\x97\\x81\\xebS\\tg{\\xb0,\\'\\x06\\xf5cb\\x14/\\xa4\\xcb\\x1cA3\\x9e*\\x9a\\x15\\x02\\x04\\x89(9h#\\xbe\\x04\\x888\\xc9\\x8fr\\xc3\\xa1\\x02;#8k\\xe3\\x1e\\xccNi\\x8b\"5\\x1c\\xfc\\xf6\\xbe\\x1a\\xf4\\xb9\\x8bfq\\xb7\\x01\\x11\\x96\\xfd\\xcc]]\\x7fr\\x90\\xb1{\\xd3k\\x16I\\x13?\\xb3\\xd78\\xec\\x1b\\xb9e\\x95\\xf7\\xc75\\xca\\x81\\x89\\xde\\x9a\\xa1&Z\\xfa\\x87BI\\x97\\xc9\\xe6f\\x11\\n\\x8f\\xa2\\x05\\xc3nF+ \\xd3>\\x91&\\x1d\\x0e\\xdc4\\x87x\\x16<\\xeb\\xcb\\x05\\x12\\x0b\\xf6|\\xd9Z\\xc4f~}+\\xd0\\x9d\\x93\\x84s\\x1e_\\xe3\\xcb\\xa9_\\x1e>o\\x0ey\\xbb\\xed\\x82\\xc8;\\xf4$%c\\xb7v\\xa4\\xc4g;\\r\\x0e\\xdd\\x93\\xd8\\x87\\xf1|\\x15@\\xe4\\xd2\\xc2\\xa1\\xb0\\xef\\xb6\\x87\\xa4\\xf5J5\\xc1t7\\x17\\xc2\\tg\\xf8(\\xbc\\x95\\xa5\\xe9I\\x1aN\\x95\\x8a\\xa2\\xed\\x910\\xd2\\x8f<i\\t\\xf7\\x0e\\xe7\\x9c\\x87j\\xbf\\xa8n\\x0eX\\xdd\\x9fB\\xf7\\xb0;8\\x8e\\xde\\xfey\\x91|\\xe9\\x93\\\\f\\xc3e-/\\x9a\\xb6S\\xe2v\\xf2U$[<*(\\x119<\\xeb<\\x96\\xb3\\x93\\x03\\xe9_\\xb3\\xf2\\x0c\\x91\\x1c9\\x12\\xf5\\x08\\xc60\\xa1\\xf5=\\xa6A\\xa8W~\\xdbT\\xd8\\x98ot\\x8f\\x16\\x14z\\xc2\\xd5Ys)*{\\x89\\xc5A\\xcf\\x86\\x00\\xd0\\t\\x83v\\x10m\\x19\\x13\\xd8r^\\xe2#\\xefFS\\x16 mtF\\x17\\xb5\\xac\\x9a\\xf1VY\\xa0}!\\xa2\\xbb.\\xe5\\xf2\\xaa\\x8e\\xce\\xa5-\\x83\\xe6+\\x1eKI\\xee\\x10\\xeb\\xf8\\x92\\x02\\x03M&$\\xfb\\xdd\\xc9\\x8az<\\xa1\\xfe\\xff}\\xad\\xa0lu\\x95P\\xb6\\x0e\\xe3~\\xab8M[\\x8f\\xfd\\x9a\\xc9\\xf1*)|}\\xa3[\\x9b\\xbb\\x86\\xde\\xe8/1H\\xf9\\xce\\x0c\\xd68\\x8c\\x8f\\xa0\\x9b\\xf9[\\x1ez.\\x12(\\xb8\\x16\\x9a\\x904\\xdeM\\t\\xd0'\n"
     ]
    }
   ],
   "source": [
    "#This cell is used to test the encryption and block processing. \n",
    "(share_list, encrypted_block) = block_processing(block_list[1])\n",
    "#(share_list, encrypted_block) = block_processing('00000020ec80c6c8f61a7810eed8d1b08b0870f34a49d59d336e4a069b7cf6f6a50ef335166970c468a1ff44df44e7b0c2d20c5054cf430e0516b785f60993683b52ba893e6b235effff7f200000000002020000000001010000000000000000000000000000000000000000000000000000000000000000ffffffff0401660101ffffffff02d0fe052a01000000160014e6e0768d5239cc1446fbf32cd825adf05b5110560000000000000000266a24aa21a9ed32209fa7aa328b352828204d4b41d1a90177efdf4c3bce51b9ccbe0a78647de90120000000000000000000000000000000000000000000000000000000000000000000000000020000000001013ccb4a45689fe7df424c98f3decf9eaebdd73c753d41894853d798c6a76ffeff0000000017160014b1a7d3b0d1011a3475c32949d2786676f0a376b3feffffff02300410240100000016001458db024dd71efaf0184926a4c85be3023fa0080400e1f50500000000160014e6e0768d5239cc1446fbf32cd825adf05b5110560247304402200e72240746ec045668b8a2e30ecd36a761ecc9bab1b2cc039dbb7ba12c7218820220019d9e63738e1b6932b6bf331c3514dd85ae4c2221f19ef458184907fa7b3455012102098cfd632f00010e78b712508cae2fc48c47a033b9a3c14e30b0eb3a074a5e4800000000')\n",
    "#stringbs = '00000020ec80c6c8f61a7810eed8d1b08b0870f34a49d59d336e4a069b7cf6f6a50ef335166970c468a1ff44df44e7b0c2d20c5054cf430e0516b785f60993683b52ba893e6b235effff7f200000000002020000000001010000000000000000000000000000000000000000000000000000000000000000ffffffff0401660101ffffffff02d0fe052a01000000160014e6e0768d5239cc1446fbf32cd825adf05b5110560000000000000000266a24aa21a9ed32209fa7aa328b352828204d4b41d1a90177efdf4c3bce51b9ccbe0a78647de90120000000000000000000000000000000000000000000000000000000000000000000000000020000000001013ccb4a45689fe7df424c98f3decf9eaebdd73c753d41894853d798c6a76ffeff0000000017160014b1a7d3b0d1011a3475c32949d2786676f0a376b3feffffff02300410240100000016001458db024dd71efaf0184926a4c85be3023fa0080400e1f50500000000160014e6e0768d5239cc1446fbf32cd825adf05b5110560247304402200e72240746ec045668b8a2e30ecd36a761ecc9bab1b2cc039dbb7ba12c7218820220019d9e63738e1b6932b6bf331c3514dd85ae4c2221f19ef458184907fa7b3455012102098cfd632f00010e78b712508cae2fc48c47a033b9a3c14e30b0eb3a074a5e4800000000'\n",
    "print(share_list)\n",
    "print(encrypted_block)"
   ]
  },
  {
   "cell_type": "code",
   "execution_count": 24,
   "metadata": {},
   "outputs": [],
   "source": [
    "#This method split the hex of the bitcoin blocks and breaks them into strings and returns them as a list. Due to RSA4096's length limitations we are capped at 501 bytes, thus we must trim the blocks and receive them as a list. \n",
    "def break_the_block(block_text):\n",
    "    length = len(block_text)\n",
    "    block_list = []\n",
    "    for i in range(math.ceil(length/500)):\n",
    "        substring = block_text[(500*i):(500*(i+1))]\n",
    "        block_list.append(substring)\n",
    "    return block_list"
   ]
  },
  {
   "cell_type": "code",
   "execution_count": 32,
   "metadata": {},
   "outputs": [
    {
     "data": {
      "text/plain": [
       "['00000020f67472a866d2b526a22ab132c2ad46578d58c968a3ff4542bc31b89778b2f237032f0b5b9a90f0bf15bf4396f9d8733b55a8cef1e8dbcdbced04e2a3ddae2b33cd11295effff7f200100000009020000000001010000000000000000000000000000000000000000000000000000000000000000ffffffff0401680101ffffffff02c059062a0100000017a9148b7a1532abef9a6cfc79cbb89a0fb171c73cb5d7870000000000000000266a24aa21a9edcc9e9dd007027c2ee8606ab265410f0af99d08038ac1a2298577f1fd47769c7901200000000000000000000000000000000000000000000000000000000000000000000000',\n",
       " '00020000000001010de9e45636dc1b3178cdf43311bb3dc31d88e14e400450648a663f2dc9e64088000000001716001446d96422bc6661867305deb392a8c5c07d18f4c4feffffff02080410240100000017a914fb5ca92fef360be3009d9a8348212d35c91bf65c8700e1f5050000000017a914502f9eb830f1ac210a79147721b8c04f881dbe71870247304402204c8c27a2d230bb5b87c4732c4f0c3a63cfe61a5e3cdcc27e4ba3fa58400b314e02206e72f5670fa0d698ef1306b791794ef4a5188dd6b0555b6a10dc25b759fbdf7901210314cec2b73d7865554856c0c2e429be5566d8565e1f5ad9c6412b3022cbe65d1a670000000200',\n",
       " '0000000101eccdcf3ade33f3a3cb08c052f113c40fab83ee0fc53174112d908bef6801c97200000000171600142fbf079e4720979ceda468fe952d234f44b9b5a6feffffff0240787d010000000017a914f7b47eceb061184194882bd226c3495c5d1fbd8487d07e92220100000017a91461c49f7032686aa30366fa726ffba51e76eb62f787024730440220239bb3edab14720a7999c726e87d7a20567ea8e8c619e013ec128689bd3bbf51022011634f861bccc0ae85aaa9d02173e8539d91669bcd23e23674ce19dc0123bb19012102e8679bf5d9d4a4212fa991a08c99138dadf9ea58341224f5ad824e9f0622c941670000000200000000',\n",
       " '0101421651589f2eee1066cbef91ccb40c8c974b6ca8b199513554ae9791dcc00f07000000001716001446d96422bc6661867305deb392a8c5c07d18f4c4feffffff02080410240100000017a91407c95ac481802bb9129abc7c3b6c4ccf7fdb18808700e1f5050000000017a914ff536bd86b1701410a8074bfa5da114dc1bcef5e8702473044022079aa0013b2d2ca870c7d3b52f1f17b77fb53e8c11b36cdce1a9b2802c89d448802204d000486d475ea3faaef06f8dc640617fbad1300be2d56032733bddfd153a68e01210314cec2b73d7865554856c0c2e429be5566d8565e1f5ad9c6412b3022cbe65d1a67000000020000000001015a',\n",
       " 'afbfa67849221ee4fa3e0309589913d182f90f9b3e8b8e3c4e066958defefb010000001716001432287953b7fa55d096fa2ed8a8e9b0104ec08d11feffffff02183f7fe20000000017a914b10a7f4ddb41b282e8802c4b740c70728927d1dc8700e1f5050000000017a914c4abadf18e28efb488fb987f40ab8396257758aa870247304402202438b022f4cb03f014a613f70c5a4ccc89f0805fcb45d3ba9e458b32fb9e98ec02203c9e47d3e0a398d054ed536635cc7aa844c2c6b2597455361b79d442f88bed27012102a26fd1a7b45f8c5ca99c927df7e5acaf5994c62f79aa5f1ab5d55ae6bf2f4d0d670000000200000000010115a7808c',\n",
       " '4aa756b61a946545402053b697b647281736e1db4b70f7f9683feeb40000000017160014d46e7c4b226f46575ac96377b3e0adb990f5c656feffffff0290d9e31f0100000017a914545263be9c28f847ef7f485cbb3d33b7e5c4c59f87801d2c040000000017a914d3281d206f3fab6e5c5f94b28f622966f3caedc98702473044022003d2b2c2e15d4e3df9bcccb5992b1feffdad7f67b734b24118da317f0dd11f9b022012933ac8972309b549a9e4ab4078b186981bd7623967707d6673ab650a7da97f0121025cb0e64a4a6f6a5552c97527f847c2befa52b3a97cbf77ec2e3c652c9e51f33967000000020000000001010ca1e9cb8e8881',\n",
       " '25e60c0bb84632bcda54bcea9bb51419e5d053f110995362df0100000017160014d8d9152f2f59bb080c57234bdd1e8da28dff550efeffffff029896751e0100000017a9141cf6695ef6f905b11112372dcbe01c786f78f2e68740db1c040000000017a9147a5f842f5c55e838cd5fce3f56f9451e89eeb84787024730440220630ea5630d6e5029a8b8c23a7d8a43090beab49e0a1b28b7487464c0a150ab8e02207c1a257c6fcadaa44c0cfa871c9829a8adb7ccf9c7d5531695afa145bfb02439012103932bfea3878d3648b73c6c0beb32ccb5c2187f200c35ab78fbf3416678fccf356700000002000000000101269198c3ffaa45b5841c',\n",
       " '7b74daa431d4fa37f73196d29b336f792893b357f37b0000000017160014260a2496f7c8b5022413b6e093ccf775e27120ccfeffffff02a04184df0000000017a9147d2e00d1257ca06d92776a59db863f322bc2348b8780f0fa020000000017a914629149372520a6628d6e283b930f3d451a7b41748702473044022076d92f685bf1075356cbc535d9816e8a5488b25adccf9f7889560dc9dd18f3a3022046d5b858a8a6b7a3551b1b64bd35d01b32a331e892f4fee9345c7544e772a633012103347b2450980be5de51522e26d38f7ed3c7da97a82f083bfe6fc1ce6cc697b99867000000020000000001017e8b8d8afbd2ffbc0fce8f1531',\n",
       " 'ba95ccd98ed81898a8376c86839ec92dc58b2a00000000171600146d8357cfd20cd6deabfab19c5704220881beafa5feffffff0240787d010000000017a914904dabdd96203bcab0f5ab833052c33a24db7baf8768bc06de0000000017a914e3d5a402751bd735422ab1e9990d12355dbb3405870247304402205034b2d8e91c4ca64ec5f160185bc558adb01c1306ad511bfe996e21c4bbc2bc02205b65790d64854feeb57083c8289e6499edfde17e68ed3e8921f03fd3eb86f91601210253a348408365169532b7962e509d9ae7d4ac61d1aa9339ec4b2f594e335a278e67000000']"
      ]
     },
     "execution_count": 32,
     "metadata": {},
     "output_type": "execute_result"
    }
   ],
   "source": [
    "block = '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'\n",
    "block_list = break_the_block(block)\n",
    "block_list"
   ]
  },
  {
   "cell_type": "code",
   "execution_count": 4,
   "metadata": {},
   "outputs": [],
   "source": [
    "#This cell creates a random set of 20 secret values for S, values will range between 100 and 1000\n",
    "def create_secret_value_table():\n",
    "    seed(42)\n",
    "    S_list = []\n",
    "    for i in range(20):\n",
    "        S_list.append(randint(100,1000))\n",
    "    S_list.sort()\n",
    "    return S_list\n",
    "    "
   ]
  },
  {
   "cell_type": "code",
   "execution_count": 5,
   "metadata": {},
   "outputs": [],
   "source": [
    "#This cell creates a table of 20 key pairs to be combined with the secret list to act as a reference. NOTE SCRIPT REQUIRES 4 CORE CPU\n",
    "def generate_RSA_keypairs():\n",
    "    cols = ['public key', 'private key']\n",
    "    N = 20\n",
    "    RSA_list = pd.DataFrame(columns = cols)\n",
    "    for i in range(N):\n",
    "        (pubkey, privkey) = rsa.newkeys(4096, poolsize = 6)\n",
    "        RSA_list = RSA_list.append({'public key' : pubkey , 'private key' : privkey}, ignore_index = True)\n",
    "    return RSA_list"
   ]
  },
  {
   "cell_type": "code",
   "execution_count": null,
   "metadata": {},
   "outputs": [],
   "source": [
    "#This function creates a master key for the secrets table. Deciding against second round of encryption for this piece\n",
    "#def generate_encrypted_keys():\n",
    "#    (master_pub, master_priv) = rsa.newkeys(4096, poolsize 6)\n",
    "#    S_RSA_slice = S_RSA_DF.copy()\n",
    "#    S_RSA_slice.columns= ['SecretID', 'PubKey', 'PrivKey']\n",
    "#    S_RSA_slice['EncryptedPrivate'] = S_RSA_slice.apply(lambda row: rsa.encrypt(row.PrivKey, master_pub), axis = 1)\n",
    "#    S_RSA_slice\n",
    " \n",
    "    "
   ]
  },
  {
   "cell_type": "code",
   "execution_count": 73,
   "metadata": {},
   "outputs": [],
   "source": [
    "#S_df = pd.DataFrame({\"Secret ID\": S_list})\n",
    "#S_RSA_DF = pd.concat([S_df, RSA_list], axis = 1)"
   ]
  },
  {
   "cell_type": "code",
   "execution_count": 6,
   "metadata": {},
   "outputs": [],
   "source": [
    "#Function to select the agents that will be signing\n",
    "def we_need_agents():\n",
    "    agent_list = []\n",
    "    for i in range(1,11):\n",
    "        agent_list.append(i)\n",
    "    agent_list = random.sample(agent_list, 5)\n",
    "    return agent_list\n",
    "    "
   ]
  },
  {
   "cell_type": "code",
   "execution_count": 11,
   "metadata": {},
   "outputs": [],
   "source": [
    "#Function to load the secrets csv if it has already been created\n",
    "def load_secrets_blocks():\n",
    "    S_RSA_DF = pd.read_csv('RSA_Keys.csv')\n",
    "    Block_DF = pd.read_csv('Blockdata.csv')\n",
    "    return S_RSA_DF, Block_DF"
   ]
  },
  {
   "cell_type": "code",
   "execution_count": 13,
   "metadata": {},
   "outputs": [],
   "source": [
    "(S_RSA_DF, Block_DF) = load_secrets_blocks()"
   ]
  },
  {
   "cell_type": "code",
   "execution_count": 15,
   "metadata": {},
   "outputs": [
    {
     "data": {
      "text/plain": [
       "'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'"
      ]
     },
     "execution_count": 15,
     "metadata": {},
     "output_type": "execute_result"
    }
   ],
   "source": [
    "Block_DF.iloc[0]['Raw_bytes']"
   ]
  },
  {
   "cell_type": "code",
   "execution_count": 8,
   "metadata": {},
   "outputs": [],
   "source": [
    "#This cell generates two values fC1 and fC2 using random int for the generation of the 2nd degree polynomial \n",
    "def generate_function_coefficients():\n",
    "    row = randint(0,19)\n",
    "    S = S_RSA_DF.iloc[row]['Secret ID']\n",
    "    fC1= randint(50,500)\n",
    "    fC2= randint(50,500)\n",
    "    return S, fC1, fC2"
   ]
  },
  {
   "cell_type": "code",
   "execution_count": 33,
   "metadata": {},
   "outputs": [
    {
     "data": {
      "text/html": [
       "<div>\n",
       "<style scoped>\n",
       "    .dataframe tbody tr th:only-of-type {\n",
       "        vertical-align: middle;\n",
       "    }\n",
       "\n",
       "    .dataframe tbody tr th {\n",
       "        vertical-align: top;\n",
       "    }\n",
       "\n",
       "    .dataframe thead th {\n",
       "        text-align: right;\n",
       "    }\n",
       "</style>\n",
       "<table border=\"1\" class=\"dataframe\">\n",
       "  <thead>\n",
       "    <tr style=\"text-align: right;\">\n",
       "      <th></th>\n",
       "      <th>Block</th>\n",
       "      <th>Block_Number</th>\n",
       "      <th>Block_hash</th>\n",
       "      <th>Raw_bytes</th>\n",
       "    </tr>\n",
       "  </thead>\n",
       "  <tbody>\n",
       "    <tr>\n",
       "      <td>0</td>\n",
       "      <td>1</td>\n",
       "      <td>104</td>\n",
       "      <td>126ec36152ebc96bd909a76a27e2722b9f0225de4504d3...</td>\n",
       "      <td>00000020f67472a866d2b526a22ab132c2ad46578d58c9...</td>\n",
       "    </tr>\n",
       "    <tr>\n",
       "      <td>1</td>\n",
       "      <td>2</td>\n",
       "      <td>105</td>\n",
       "      <td>23206e58d35e3783bfb749c46feddf047a02a4eba9a781...</td>\n",
       "      <td>000000209176eb369dd06f601fd30445de25029f2b72e2...</td>\n",
       "    </tr>\n",
       "    <tr>\n",
       "      <td>2</td>\n",
       "      <td>3</td>\n",
       "      <td>106</td>\n",
       "      <td>32d31172520e4da4f382471d0693189662305d79aca279...</td>\n",
       "      <td>000000206982d12e2bf5a04a7b81a7a9eba4027a04dfed...</td>\n",
       "    </tr>\n",
       "    <tr>\n",
       "      <td>3</td>\n",
       "      <td>4</td>\n",
       "      <td>107</td>\n",
       "      <td>365c1d7d2daf781f4a45a478c85c13eabc757849402b18...</td>\n",
       "      <td>0000002033817683c52f3e1e3979a2ac795d3062961893...</td>\n",
       "    </tr>\n",
       "    <tr>\n",
       "      <td>4</td>\n",
       "      <td>5</td>\n",
       "      <td>108</td>\n",
       "      <td>08f28662ba1df3f21e19709c0e1c7d3691fd9cf4c7e780...</td>\n",
       "      <td>000000206968668ba924cb5577182b40497875bcea135c...</td>\n",
       "    </tr>\n",
       "    <tr>\n",
       "      <td>5</td>\n",
       "      <td>6</td>\n",
       "      <td>109</td>\n",
       "      <td>73a630a38045cdbe95b10f66183effc581b0458b74d0e5...</td>\n",
       "      <td>000000202a202fb6639691637b80e7c7f49cfd91367d1c...</td>\n",
       "    </tr>\n",
       "    <tr>\n",
       "      <td>6</td>\n",
       "      <td>7</td>\n",
       "      <td>110</td>\n",
       "      <td>7aade5e1b42196ac7226f1cc534887e664dfa131680a7a...</td>\n",
       "      <td>0000002072683a587a183840e8e5d0748b45b081c5ff3e...</td>\n",
       "    </tr>\n",
       "    <tr>\n",
       "      <td>7</td>\n",
       "      <td>8</td>\n",
       "      <td>111</td>\n",
       "      <td>10ab6e2f2a32f0c6e0c56fa381adbd7e409b1654c12ab7...</td>\n",
       "      <td>00000020bdda082fc3fee2e7507a0a6831a1df64e68748...</td>\n",
       "    </tr>\n",
       "    <tr>\n",
       "      <td>8</td>\n",
       "      <td>9</td>\n",
       "      <td>112</td>\n",
       "      <td>6dbf9d21a3a2db9549c5f809487d6ab9f508503fea1227...</td>\n",
       "      <td>00000020c0865edeb1123be76ab72ac154169b407ebdad...</td>\n",
       "    </tr>\n",
       "    <tr>\n",
       "      <td>9</td>\n",
       "      <td>10</td>\n",
       "      <td>113</td>\n",
       "      <td>6dfb64a83efaab0f3d623a5738a1fbd11d64cdf8f02b72...</td>\n",
       "      <td>0000002066e5b0143eadef5b362712ea3f5008f5b96a7d...</td>\n",
       "    </tr>\n",
       "    <tr>\n",
       "      <td>10</td>\n",
       "      <td>11</td>\n",
       "      <td>114</td>\n",
       "      <td>42d8675bfcd0fdc30b0417d7abcc039a50907031f844da...</td>\n",
       "      <td>000000205c7e1c80f0efe12308722bf0f8cd641dd1fba1...</td>\n",
       "    </tr>\n",
       "    <tr>\n",
       "      <td>11</td>\n",
       "      <td>12</td>\n",
       "      <td>115</td>\n",
       "      <td>1e8b062d010e091100563f9eb23e6dcab63c67fea0e46b...</td>\n",
       "      <td>00000020c65916cc3ad08c0f28da44f8317090509a03cc...</td>\n",
       "    </tr>\n",
       "  </tbody>\n",
       "</table>\n",
       "</div>"
      ],
      "text/plain": [
       "    Block  Block_Number                                         Block_hash  \\\n",
       "0       1           104  126ec36152ebc96bd909a76a27e2722b9f0225de4504d3...   \n",
       "1       2           105  23206e58d35e3783bfb749c46feddf047a02a4eba9a781...   \n",
       "2       3           106  32d31172520e4da4f382471d0693189662305d79aca279...   \n",
       "3       4           107  365c1d7d2daf781f4a45a478c85c13eabc757849402b18...   \n",
       "4       5           108  08f28662ba1df3f21e19709c0e1c7d3691fd9cf4c7e780...   \n",
       "5       6           109  73a630a38045cdbe95b10f66183effc581b0458b74d0e5...   \n",
       "6       7           110  7aade5e1b42196ac7226f1cc534887e664dfa131680a7a...   \n",
       "7       8           111  10ab6e2f2a32f0c6e0c56fa381adbd7e409b1654c12ab7...   \n",
       "8       9           112  6dbf9d21a3a2db9549c5f809487d6ab9f508503fea1227...   \n",
       "9      10           113  6dfb64a83efaab0f3d623a5738a1fbd11d64cdf8f02b72...   \n",
       "10     11           114  42d8675bfcd0fdc30b0417d7abcc039a50907031f844da...   \n",
       "11     12           115  1e8b062d010e091100563f9eb23e6dcab63c67fea0e46b...   \n",
       "\n",
       "                                            Raw_bytes  \n",
       "0   00000020f67472a866d2b526a22ab132c2ad46578d58c9...  \n",
       "1   000000209176eb369dd06f601fd30445de25029f2b72e2...  \n",
       "2   000000206982d12e2bf5a04a7b81a7a9eba4027a04dfed...  \n",
       "3   0000002033817683c52f3e1e3979a2ac795d3062961893...  \n",
       "4   000000206968668ba924cb5577182b40497875bcea135c...  \n",
       "5   000000202a202fb6639691637b80e7c7f49cfd91367d1c...  \n",
       "6   0000002072683a587a183840e8e5d0748b45b081c5ff3e...  \n",
       "7   00000020bdda082fc3fee2e7507a0a6831a1df64e68748...  \n",
       "8   00000020c0865edeb1123be76ab72ac154169b407ebdad...  \n",
       "9   0000002066e5b0143eadef5b362712ea3f5008f5b96a7d...  \n",
       "10  000000205c7e1c80f0efe12308722bf0f8cd641dd1fba1...  \n",
       "11  00000020c65916cc3ad08c0f28da44f8317090509a03cc...  "
      ]
     },
     "execution_count": 33,
     "metadata": {},
     "output_type": "execute_result"
    }
   ],
   "source": [
    "Block_DF"
   ]
  },
  {
   "cell_type": "code",
   "execution_count": 9,
   "metadata": {},
   "outputs": [
    {
     "ename": "SyntaxError",
     "evalue": "invalid syntax (<ipython-input-9-428ae4495048>, line 2)",
     "output_type": "error",
     "traceback": [
      "\u001b[1;36m  File \u001b[1;32m\"<ipython-input-9-428ae4495048>\"\u001b[1;36m, line \u001b[1;32m2\u001b[0m\n\u001b[1;33m    def generate_polynomial_function:\u001b[0m\n\u001b[1;37m                                    ^\u001b[0m\n\u001b[1;31mSyntaxError\u001b[0m\u001b[1;31m:\u001b[0m invalid syntax\n"
     ]
    }
   ],
   "source": [
    "#This cell generates the polynomial function for evaluation of shares, Shamir_Poly is a polynomial variable\n",
    "#def generate_polynomial_function:\n",
    "#    return Shamir_Poly"
   ]
  },
  {
   "cell_type": "code",
   "execution_count": 10,
   "metadata": {},
   "outputs": [],
   "source": [
    "#This cell calculates the shares off the Shamir_Poly. This function should take in the five agents that signed the transaction, calculate the shares for all five, then return their relevant value.\n",
    "def generate_Shamir_Shares (agent_list, S, fC1, fC2):\n",
    "    shamir_shares = []\n",
    "    for agent in agent_list:\n",
    "        share = S + fC1*agent + fC2 * agent * agent\n",
    "        shamir_shares.append({agent:share})\n",
    "    return shamir_shares"
   ]
  },
  {
   "cell_type": "code",
   "execution_count": 128,
   "metadata": {},
   "outputs": [
    {
     "name": "stdout",
     "output_type": "stream",
     "text": [
      "PrivateKey(590970760575115953828553975965738461064803276645424800846192246610193743182006132411960496794536607827219923199934781951305443107257050639196011861276318955206659330664725952096929143012896575017301915181008065544686581689718255891454913014677176802566056485650830915443601257863650090452895363647048485100936937009235892591220721828479419879295939808800713716958267514358157928531002419579461381737472286507278590100278013761983908149158092012603081653190434249585185523726245981323190529015593862764804335006553313050612398632749151649817524788793187731643927196563670861809417223036053178348574103097794118583357402105985965954045528281270265985437991432266779460449002532437289216192304872010663990937055095706147262753555437013756913194926396321794573211342405917636101374759556583768584568605460735956872256601873215313685055288261127283043266327576226319006661781539300452076924896216663085950008015788656996551454390433506791591354912893373021187088541772757801807966515506160564326533188314300779155104543804557672987947416963452035043999083556265743824299101524308992261341528650458478425124937835335839186137442193625378569966775266089763789678244962343092777405413457822196263231880940221996670199699402428935784354171273, 65537, 392913452714337358380328400670691700321599602869693376982027477021315775389010073814583437246568253244052271443470989730445886636747355959254891509092467550165856951264996931667905054373879525508169375317485762851192889878482285792122998074195166468074687264434802561585425600941343445554480822744294728799046724084157583470059058428556903160055571437338808593451372360698964179316742732019101740794465415566499076955603916774507908964146444653633124446869200475413511281037028184753580129099538754936155443325763271275071090309669023373628622116088401498862029689120173801999197527433528059536393732894799963631587830727352438638481348280924851866209721161727127097764938553335593287711329733161968662813194563705549387899672429027916444705931506300858332109987417099943401077296234539666455986049922727162821376526271657421460211642242026457622944521380583986552820178495673366186845138081684042954016800165338449952132737383060967295114716552627683648845237840333579039792068140127218135040425051920966808176460824052283748904968786274884372486352638884326197606338610720913522148399740777258521334844636915654252007256307455707790288068483269474945869637783532304221924001592700731329545112880644028429363874564070018747636165925, 7534572758742853275728583151903988921130507094524670448986333573939894606823066679397130316613007404276828913167791973067181411892549113632364024174783062293209062300438579823918748306397778455480074314182995800216875281742712273238782655339421064010280793824460681011257637246067629703191737894734711254098861761462165389623446090235999767640323193044818429934726135970334671818992094162044171351272315335425305963568309285585392886888972360114998095964859891873181971454927277305407638492763195783137043992951317774229769768755585566901739020055349533408684069514970760088498605464354320597240564951900176983157848142686756451866965631782083360602099519, 78434541612113873977102992023826140574811058809966070170084801630540804425984544739712167574604721612361453712807691151298316456069640033037510398174922478066850344282110730063540460220455261418758543976128389321923522679586557862184950706689658739077479941984677396716819933971563643279527935803278072883111181492620874927635331656934962837441782356874524342160912254704514547613483805009856832656836828795736490304022430213021294131855477295377620759241213171787411727660906519185325626086722712322814137803413774908536285491297751962632093916767972326715197093119179223776567)\n"
     ]
    }
   ],
   "source": [
    "index = S_RSA_DF.loc[S_RSA_DF['Secret ID'] == S].index[0]\n",
    "string1 = S_RSA_DF.loc[S_RSA_DF['Secret ID'] == S]['private key'][index]\n",
    "print(string1)"
   ]
  },
  {
   "cell_type": "code",
   "execution_count": 29,
   "metadata": {},
   "outputs": [],
   "source": [
    "def encrypt_the_block(block, S):\n",
    "    message = block.encode('utf-8')\n",
    "    index = S_RSA_DF.loc[S_RSA_DF['Secret ID'] == S].index[0]\n",
    "    string1 = S_RSA_DF.loc[S_RSA_DF['Secret ID'] == S]['private key'][index]\n",
    "    list1 = string1.split(', ')\n",
    "    list1[0] = list1[0][11:]\n",
    "    list1[-1] = list1[-1][:-1]\n",
    "    n = int(list1[0])\n",
    "    e = int(list1[1])\n",
    "    d = int(list1[2])\n",
    "    p = int(list1[3])\n",
    "    q = int(list1[4])\n",
    "    priv_key = rsa.PrivateKey(n, e, d, p, q)\n",
    "    encrypted_block = rsa.encrypt(message, priv_key)\n",
    "    return encrypted_block"
   ]
  },
  {
   "cell_type": "code",
   "execution_count": 63,
   "metadata": {},
   "outputs": [
    {
     "data": {
      "text/plain": [
       "[{9: 23959}, {1: 1239}, {7: 15435}, {8: 19460}, {4: 6204}]"
      ]
     },
     "execution_count": 63,
     "metadata": {},
     "output_type": "execute_result"
    }
   ],
   "source": [
    "share_list"
   ]
  },
  {
   "cell_type": "code",
   "execution_count": 127,
   "metadata": {},
   "outputs": [
    {
     "name": "stdout",
     "output_type": "stream",
     "text": [
      "['590970760575115953828553975965738461064803276645424800846192246610193743182006132411960496794536607827219923199934781951305443107257050639196011861276318955206659330664725952096929143012896575017301915181008065544686581689718255891454913014677176802566056485650830915443601257863650090452895363647048485100936937009235892591220721828479419879295939808800713716958267514358157928531002419579461381737472286507278590100278013761983908149158092012603081653190434249585185523726245981323190529015593862764804335006553313050612398632749151649817524788793187731643927196563670861809417223036053178348574103097794118583357402105985965954045528281270265985437991432266779460449002532437289216192304872010663990937055095706147262753555437013756913194926396321794573211342405917636101374759556583768584568605460735956872256601873215313685055288261127283043266327576226319006661781539300452076924896216663085950008015788656996551454390433506791591354912893373021187088541772757801807966515506160564326533188314300779155104543804557672987947416963452035043999083556265743824299101524308992261341528650458478425124937835335839186137442193625378569966775266089763789678244962343092777405413457822196263231880940221996670199699402428935784354171273', '65537', '392913452714337358380328400670691700321599602869693376982027477021315775389010073814583437246568253244052271443470989730445886636747355959254891509092467550165856951264996931667905054373879525508169375317485762851192889878482285792122998074195166468074687264434802561585425600941343445554480822744294728799046724084157583470059058428556903160055571437338808593451372360698964179316742732019101740794465415566499076955603916774507908964146444653633124446869200475413511281037028184753580129099538754936155443325763271275071090309669023373628622116088401498862029689120173801999197527433528059536393732894799963631587830727352438638481348280924851866209721161727127097764938553335593287711329733161968662813194563705549387899672429027916444705931506300858332109987417099943401077296234539666455986049922727162821376526271657421460211642242026457622944521380583986552820178495673366186845138081684042954016800165338449952132737383060967295114716552627683648845237840333579039792068140127218135040425051920966808176460824052283748904968786274884372486352638884326197606338610720913522148399740777258521334844636915654252007256307455707790288068483269474945869637783532304221924001592700731329545112880644028429363874564070018747636165925', '7534572758742853275728583151903988921130507094524670448986333573939894606823066679397130316613007404276828913167791973067181411892549113632364024174783062293209062300438579823918748306397778455480074314182995800216875281742712273238782655339421064010280793824460681011257637246067629703191737894734711254098861761462165389623446090235999767640323193044818429934726135970334671818992094162044171351272315335425305963568309285585392886888972360114998095964859891873181971454927277305407638492763195783137043992951317774229769768755585566901739020055349533408684069514970760088498605464354320597240564951900176983157848142686756451866965631782083360602099519', '78434541612113873977102992023826140574811058809966070170084801630540804425984544739712167574604721612361453712807691151298316456069640033037510398174922478066850344282110730063540460220455261418758543976128389321923522679586557862184950706689658739077479941984677396716819933971563643279527935803278072883111181492620874927635331656934962837441782356874524342160912254704514547613483805009856832656836828795736490304022430213021294131855477295377620759241213171787411727660906519185325626086722712322814137803413774908536285491297751962632093916767972326715197093119179223776567']\n"
     ]
    }
   ],
   "source": [
    "S = 792\n",
    "index = S_RSA_DF.loc[S_RSA_DF['Secret ID'] == S].index[0]\n",
    "string1 = S_RSA_DF.loc[S_RSA_DF['Secret ID'] == S]['private key'][index]\n",
    "list1 = string1.split(', ')\n",
    "list1[0] = list1[0][11:]\n",
    "list1[-1] = list1[-1][:-1]\n",
    "print(list1)"
   ]
  },
  {
   "cell_type": "code",
   "execution_count": null,
   "metadata": {},
   "outputs": [],
   "source": []
  }
 ],
 "metadata": {
  "kernelspec": {
   "display_name": "Python 3",
   "language": "python",
   "name": "python3"
  },
  "language_info": {
   "codemirror_mode": {
    "name": "ipython",
    "version": 3
   },
   "file_extension": ".py",
   "mimetype": "text/x-python",
   "name": "python",
   "nbconvert_exporter": "python",
   "pygments_lexer": "ipython3",
   "version": "3.7.4"
  }
 },
 "nbformat": 4,
 "nbformat_minor": 4
}

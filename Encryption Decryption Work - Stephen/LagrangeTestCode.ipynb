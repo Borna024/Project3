{
 "cells": [
  {
   "cell_type": "code",
   "execution_count": 1,
   "metadata": {},
   "outputs": [],
   "source": [
    "#This is a set of test code to test LaGrange Interpolation for implementation into the three out of five encryption problem. \n",
    "#Note that this code and the code that will be implemented into the project uses a linear representation instead of a finite field. \n",
    "#For any enterprise development the code must be changed to include a finite field build around a significantly large prime such as 2^127 -1 "
   ]
  },
  {
   "cell_type": "code",
   "execution_count": 3,
   "metadata": {},
   "outputs": [],
   "source": [
    "import numpy as np \n",
    "#Code imports numpy as the arrays are necessary to run a lagrange interpolate \n",
    "from scipy.interpolate import lagrange \n",
    "\n",
    "#Imports the necessary function to rebuild the secret from a number of key shares. \n",
    "#In all future examples let us assume that k = 3 and n = 5, thus a second degree polynomial will be formed with a constant secret\n",
    "#In this example we set the secret equal to vaiable S, coefficients will be listed in increasing order with the variables fC1 and fC2\n",
    "#For this test case we used S = 1234, fC1 = 166, fC2 = 94. This defines the polynomial f(x) = 1234 + 94x + 166(x^2)"
   ]
  },
  {
   "cell_type": "code",
   "execution_count": 4,
   "metadata": {},
   "outputs": [],
   "source": [
    "fx_cords = np.array([1, 3, 5])\n",
    "#An array representing the three key shares randomly chosen for the five\n",
    "fy_cords = np.array([1494, 2578, 4414])\n",
    "#An array representing the three function outputs given the points selected above"
   ]
  },
  {
   "cell_type": "code",
   "execution_count": 6,
   "metadata": {},
   "outputs": [],
   "source": [
    "poly = lagrange(fx_cords, fy_cords)\n",
    "#Runs lagrange interpolation, returns a polynomial with coefficients in decreasing order"
   ]
  },
  {
   "cell_type": "code",
   "execution_count": 7,
   "metadata": {},
   "outputs": [
    {
     "data": {
      "text/plain": [
       "poly1d([  94.,  166., 1234.])"
      ]
     },
     "execution_count": 7,
     "metadata": {},
     "output_type": "execute_result"
    }
   ],
   "source": [
    "poly"
   ]
  },
  {
   "cell_type": "code",
   "execution_count": null,
   "metadata": {},
   "outputs": [],
   "source": []
  }
 ],
 "metadata": {
  "kernelspec": {
   "display_name": "Python 3",
   "language": "python",
   "name": "python3"
  },
  "language_info": {
   "codemirror_mode": {
    "name": "ipython",
    "version": 3
   },
   "file_extension": ".py",
   "mimetype": "text/x-python",
   "name": "python",
   "nbconvert_exporter": "python",
   "pygments_lexer": "ipython3",
   "version": "3.7.4"
  }
 },
 "nbformat": 4,
 "nbformat_minor": 4
}
